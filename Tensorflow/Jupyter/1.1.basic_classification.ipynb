{
  "nbformat": 4,
  "nbformat_minor": 0,
  "metadata": {
    "colab": {
      "name": "basic_classification.ipynb",
      "version": "0.3.2",
      "provenance": [],
      "private_outputs": true,
      "collapsed_sections": [],
      "toc_visible": true
    },
    "kernelspec": {
      "name": "python3",
      "language": "python",
      "display_name": "Python 3"
    }
  },
  "cells": [
    {
      "cell_type": "markdown",
      "metadata": {
        "id": "MhoQ0WE77laV",
        "colab_type": "text",
        "pycharm": {}
      },
      "source": [
        "##### Copyright 2018 The TensorFlow Authors."
      ]
    },
    {
      "cell_type": "code",
      "metadata": {
        "id": "_ckMIh7O7s6D",
        "colab_type": "code",
        "cellView": "form",
        "colab": {},
        "pycharm": {}
      },
      "source": [
        "#@title Licensed under the Apache License, Version 2.0 (the \"License\");\n",
        "# you may not use this file except in compliance with the License.\n",
        "# You may obtain a copy of the License at\n",
        "#\n",
        "# https://www.apache.org/licenses/LICENSE-2.0\n",
        "#\n",
        "# Unless required by applicable law or agreed to in writing, software\n",
        "# distributed under the License is distributed on an \"AS IS\" BASIS,\n",
        "# WITHOUT WARRANTIES OR CONDITIONS OF ANY KIND, either express or implied.\n",
        "# See the License for the specific language governing permissions and\n",
        "# limitations under the License."
      ],
      "execution_count": 0,
      "outputs": []
    },
    {
      "cell_type": "code",
      "metadata": {
        "id": "vasWnqRgy1H4",
        "colab_type": "code",
        "cellView": "form",
        "colab": {},
        "pycharm": {}
      },
      "source": [
        "#@title MIT License\n",
        "#\n",
        "# Copyright (c) 2017 François Chollet\n",
        "#\n",
        "# Permission is hereby granted, free of charge, to any person obtaining a\n",
        "# copy of this software and associated documentation files (the \"Software\"),\n",
        "# to deal in the Software without restriction, including without limitation\n",
        "# the rights to use, copy, modify, merge, publish, distribute, sublicense,\n",
        "# and/or sell copies of the Software, and to permit persons to whom the\n",
        "# Software is furnished to do so, subject to the following conditions:\n",
        "#\n",
        "# The above copyright notice and this permission notice shall be included in\n",
        "# all copies or substantial portions of the Software.\n",
        "#\n",
        "# THE SOFTWARE IS PROVIDED \"AS IS\", WITHOUT WARRANTY OF ANY KIND, EXPRESS OR\n",
        "# IMPLIED, INCLUDING BUT NOT LIMITED TO THE WARRANTIES OF MERCHANTABILITY,\n",
        "# FITNESS FOR A PARTICULAR PURPOSE AND NONINFRINGEMENT. IN NO EVENT SHALL\n",
        "# THE AUTHORS OR COPYRIGHT HOLDERS BE LIABLE FOR ANY CLAIM, DAMAGES OR OTHER\n",
        "# LIABILITY, WHETHER IN AN ACTION OF CONTRACT, TORT OR OTHERWISE, ARISING\n",
        "# FROM, OUT OF OR IN CONNECTION WITH THE SOFTWARE OR THE USE OR OTHER\n",
        "# DEALINGS IN THE SOFTWARE."
      ],
      "execution_count": 0,
      "outputs": []
    },
    {
      "cell_type": "markdown",
      "metadata": {
        "id": "jYysdyb-CaWM",
        "colab_type": "text",
        "pycharm": {}
      },
      "source": [
        "# Train your first neural network: basic classification"
      ]
    },
    {
      "cell_type": "markdown",
      "metadata": {
        "id": "S5Uhzt6vVIB2",
        "colab_type": "text",
        "pycharm": {}
      },
      "source": [
        "\u003ctable class\u003d\"tfo-notebook-buttons\" align\u003d\"left\"\u003e\n",
        "  \u003ctd\u003e\n",
        "    \u003ca target\u003d\"_blank\" href\u003d\"https://www.tensorflow.org/tutorials/keras/basic_classification\"\u003e\u003cimg src\u003d\"https://www.tensorflow.org/images/tf_logo_32px.png\" /\u003eView on TensorFlow.org\u003c/a\u003e\n",
        "  \u003c/td\u003e\n",
        "  \u003ctd\u003e\n",
        "    \u003ca target\u003d\"_blank\" href\u003d\"https://colab.research.google.com/github/tensorflow/docs/blob/master/site/en/tutorials/keras/basic_classification.ipynb\"\u003e\u003cimg src\u003d\"https://www.tensorflow.org/images/colab_logo_32px.png\" /\u003eRun in Google Colab\u003c/a\u003e\n",
        "  \u003c/td\u003e\n",
        "  \u003ctd\u003e\n",
        "    \u003ca target\u003d\"_blank\" href\u003d\"https://github.com/tensorflow/docs/blob/master/site/en/tutorials/keras/basic_classification.ipynb\"\u003e\u003cimg src\u003d\"https://www.tensorflow.org/images/GitHub-Mark-32px.png\" /\u003eView source on GitHub\u003c/a\u003e\n",
        "  \u003c/td\u003e\n",
        "\u003c/table\u003e"
      ]
    },
    {
      "cell_type": "markdown",
      "metadata": {
        "id": "FbVhjPpzn6BM",
        "colab_type": "text",
        "pycharm": {}
      },
      "source": [
        "This guide trains a neural network model to classify images of clothing, like sneakers and shirts. It\u0027s okay if you don\u0027t understand all the details, this is a fast-paced overview of a complete TensorFlow program with the details explained as we go.\n",
        "\n",
        "This guide uses [tf.keras](https://www.tensorflow.org/guide/keras), a high-level API to build and train models in TensorFlow."
      ]
    },
    {
      "cell_type": "code",
      "metadata": {
        "id": "dzLKpmZICaWN",
        "colab_type": "code",
        "colab": {},
        "pycharm": {
          "is_executing": false
        }
      },
      "source": [
        "from __future__ import absolute_import, division, print_function, unicode_literals\n",
        "\n",
        "# TensorFlow and tf.keras\n",
        "import tensorflow as tf\n",
        "from tensorflow import keras\n",
        "\n",
        "# Helper libraries\n",
        "import numpy as np\n",
        "import matplotlib.pyplot as plt\n",
        "\n",
        "print(tf.__version__)"
      ],
      "execution_count": 5,
      "outputs": [
        {
          "name": "stderr",
          "text": [
            "E0718 16:29:05.002748 13764 ultratb.py:149] Internal Python error in the inspect module.\nBelow is the traceback from this internal error.\n\n"
          ],
          "output_type": "stream"
        },
        {
          "name": "stdout",
          "text": [
            "Traceback (most recent call last):\n  File \"c:\\users\\cuissot\\pycharmprojects\\untitled1\\venv\\lib\\site-packages\\IPython\\core\\interactiveshell.py\", line 3296, in run_code\n    exec(code_obj, self.user_global_ns, self.user_ns)\n  File \"\u003cipython-input-5-17585c4c8592\u003e\", line 11, in \u003cmodule\u003e\n    print(tf.__version__)\n  File \"c:\\users\\cuissot\\pycharmprojects\\untitled1\\venv\\lib\\site-packages\\tensorflow_core\\python\\util\\deprecation_wrapper.py\", line 104, in __getattr__\nAttributeError: module \u0027tensorflow\u0027 has no attribute \u0027__version__\u0027\n\nDuring handling of the above exception, another exception occurred:\n\nTraceback (most recent call last):\n  File \"c:\\users\\cuissot\\pycharmprojects\\untitled1\\venv\\lib\\site-packages\\IPython\\core\\interactiveshell.py\", line 2033, in showtraceback\n    stb \u003d value._render_traceback_()\nAttributeError: \u0027AttributeError\u0027 object has no attribute \u0027_render_traceback_\u0027\n\nDuring handling of the above exception, another exception occurred:\n\nTraceback (most recent call last):\n  File \"c:\\users\\cuissot\\pycharmprojects\\untitled1\\venv\\lib\\site-packages\\IPython\\core\\ultratb.py\", line 1095, in get_records\n    return _fixed_getinnerframes(etb, number_of_lines_of_context, tb_offset)\n  File \"c:\\users\\cuissot\\pycharmprojects\\untitled1\\venv\\lib\\site-packages\\IPython\\core\\ultratb.py\", line 313, in wrapped\n    return f(*args, **kwargs)\n  File \"c:\\users\\cuissot\\pycharmprojects\\untitled1\\venv\\lib\\site-packages\\IPython\\core\\ultratb.py\", line 347, in _fixed_getinnerframes\n    records \u003d fix_frame_records_filenames(inspect.getinnerframes(etb, context))\n  File \"C:\\Users\\Cuissot\\Miniconda3\\lib\\inspect.py\", line 1454, in getinnerframes\n    frameinfo \u003d (tb.tb_frame,) + getframeinfo(tb, context)\n  File \"C:\\Users\\Cuissot\\Miniconda3\\lib\\inspect.py\", line 1411, in getframeinfo\n    filename \u003d getsourcefile(frame) or getfile(frame)\n  File \"C:\\Users\\Cuissot\\Miniconda3\\lib\\inspect.py\", line 666, in getsourcefile\n    if getattr(getmodule(object, filename), \u0027__loader__\u0027, None) is not None:\n  File \"C:\\Users\\Cuissot\\Miniconda3\\lib\\inspect.py\", line 703, in getmodule\n    if ismodule(module) and hasattr(module, \u0027__file__\u0027):\n  File \"c:\\users\\cuissot\\pycharmprojects\\untitled1\\venv\\lib\\site-packages\\tensorflow\\__init__.py\", line 50, in __getattr__\n    from tensorflow._api.v1 import math\n  File \"c:\\users\\cuissot\\pycharmprojects\\untitled1\\venv\\lib\\site-packages\\tensorflow\\__init__.py\", line 44, in _load\n    from tensorflow._api.v1 import layers\n  File \"C:\\Users\\Cuissot\\Miniconda3\\lib\\importlib\\__init__.py\", line 126, in import_module\n    return _bootstrap._gcd_import(name[level:], package, level)\n  File \"\u003cfrozen importlib._bootstrap\u003e\", line 978, in _gcd_import\n  File \"\u003cfrozen importlib._bootstrap\u003e\", line 961, in _find_and_load\n  File \"\u003cfrozen importlib._bootstrap\u003e\", line 936, in _find_and_load_unlocked\n  File \"\u003cfrozen importlib._bootstrap\u003e\", line 205, in _call_with_frames_removed\n  File \"\u003cfrozen importlib._bootstrap\u003e\", line 978, in _gcd_import\n  File \"\u003cfrozen importlib._bootstrap\u003e\", line 961, in _find_and_load\n  File \"\u003cfrozen importlib._bootstrap\u003e\", line 948, in _find_and_load_unlocked\nModuleNotFoundError: No module named \u0027tensorflow_core\u0027\n"
          ],
          "output_type": "stream"
        },
        {
          "traceback": [
            "\u001b[1;31m---------------------------------------------------------------------------\u001b[0m"
          ],
          "ename": "AttributeError",
          "evalue": "module \u0027tensorflow\u0027 has no attribute \u0027__version__\u0027",
          "output_type": "error"
        }
      ]
    },
    {
      "cell_type": "markdown",
      "metadata": {
        "id": "yR0EdgrLCaWR",
        "colab_type": "text",
        "pycharm": {}
      },
      "source": [
        "## Import the Fashion MNIST dataset"
      ]
    },
    {
      "cell_type": "markdown",
      "metadata": {
        "id": "DLdCchMdCaWQ",
        "colab_type": "text",
        "pycharm": {}
      },
      "source": [
        "This guide uses the [Fashion MNIST](https://github.com/zalandoresearch/fashion-mnist) dataset which contains 70,000 grayscale images in 10 categories. The images show individual articles of clothing at low resolution (28 by 28 pixels), as seen here:\n",
        "\n",
        "\u003ctable\u003e\n",
        "  \u003ctr\u003e\u003ctd\u003e\n",
        "    \u003cimg src\u003d\"https://tensorflow.org/images/fashion-mnist-sprite.png\"\n",
        "         alt\u003d\"Fashion MNIST sprite\"  width\u003d\"600\"\u003e\n",
        "  \u003c/td\u003e\u003c/tr\u003e\n",
        "  \u003ctr\u003e\u003ctd align\u003d\"center\"\u003e\n",
        "    \u003cb\u003eFigure 1.\u003c/b\u003e \u003ca href\u003d\"https://github.com/zalandoresearch/fashion-mnist\"\u003eFashion-MNIST samples\u003c/a\u003e (by Zalando, MIT License).\u003cbr/\u003e\u0026nbsp;\n",
        "  \u003c/td\u003e\u003c/tr\u003e\n",
        "\u003c/table\u003e\n",
        "\n",
        "Fashion MNIST is intended as a drop-in replacement for the classic [MNIST](http://yann.lecun.com/exdb/mnist/) dataset—often used as the \"Hello, World\" of machine learning programs for computer vision. The MNIST dataset contains images of handwritten digits (0, 1, 2, etc) in an identical format to the articles of clothing we\u0027ll use here.\n",
        "\n",
        "This guide uses Fashion MNIST for variety, and because it\u0027s a slightly more challenging problem than regular MNIST. Both datasets are relatively small and are used to verify that an algorithm works as expected. They\u0027re good starting points to test and debug code.\n",
        "\n",
        "We will use 60,000 images to train the network and 10,000 images to evaluate how accurately the network learned to classify images. You can access the Fashion MNIST directly from TensorFlow, just import and load the data:"
      ]
    },
    {
      "cell_type": "code",
      "metadata": {
        "id": "7MqDQO0KCaWS",
        "colab_type": "code",
        "colab": {},
        "pycharm": {
          "is_executing": false
        }
      },
      "source": [
        "fashion_mnist \u003d keras.datasets.fashion_mnist\n",
        "\n",
        "(train_images, train_labels), (test_images, test_labels) \u003d fashion_mnist.load_data()"
      ],
      "execution_count": 6,
      "outputs": [
        {
          "name": "stderr",
          "text": [
            "E0718 16:29:33.472110 13764 ultratb.py:149] Internal Python error in the inspect module.\nBelow is the traceback from this internal error.\n\n"
          ],
          "output_type": "stream"
        },
        {
          "name": "stdout",
          "text": [
            "Traceback (most recent call last):\n  File \"c:\\users\\cuissot\\pycharmprojects\\untitled1\\venv\\lib\\site-packages\\IPython\\core\\interactiveshell.py\", line 3296, in run_code\n    exec(code_obj, self.user_global_ns, self.user_ns)\n  File \"\u003cipython-input-6-f4362553fc97\u003e\", line 1, in \u003cmodule\u003e\n    fashion_mnist \u003d keras.datasets.fashion_mnist\n  File \"c:\\users\\cuissot\\pycharmprojects\\untitled1\\venv\\lib\\site-packages\\tensorflow\\__init__.py\", line 50, in __getattr__\n    from tensorflow._api.v1 import math\n  File \"c:\\users\\cuissot\\pycharmprojects\\untitled1\\venv\\lib\\site-packages\\tensorflow\\__init__.py\", line 44, in _load\n    from tensorflow._api.v1 import layers\n  File \"C:\\Users\\Cuissot\\Miniconda3\\lib\\importlib\\__init__.py\", line 126, in import_module\n    return _bootstrap._gcd_import(name[level:], package, level)\n  File \"\u003cfrozen importlib._bootstrap\u003e\", line 978, in _gcd_import\n  File \"\u003cfrozen importlib._bootstrap\u003e\", line 961, in _find_and_load\n  File \"\u003cfrozen importlib._bootstrap\u003e\", line 936, in _find_and_load_unlocked\n  File \"\u003cfrozen importlib._bootstrap\u003e\", line 205, in _call_with_frames_removed\n  File \"\u003cfrozen importlib._bootstrap\u003e\", line 978, in _gcd_import\n  File \"\u003cfrozen importlib._bootstrap\u003e\", line 961, in _find_and_load\n  File \"\u003cfrozen importlib._bootstrap\u003e\", line 948, in _find_and_load_unlocked\nModuleNotFoundError: No module named \u0027tensorflow_core\u0027\n\nDuring handling of the above exception, another exception occurred:\n\nTraceback (most recent call last):\n  File \"c:\\users\\cuissot\\pycharmprojects\\untitled1\\venv\\lib\\site-packages\\IPython\\core\\interactiveshell.py\", line 2033, in showtraceback\n    stb \u003d value._render_traceback_()\nAttributeError: \u0027ModuleNotFoundError\u0027 object has no attribute \u0027_render_traceback_\u0027\n\nDuring handling of the above exception, another exception occurred:\n\nTraceback (most recent call last):\n  File \"c:\\users\\cuissot\\pycharmprojects\\untitled1\\venv\\lib\\site-packages\\IPython\\core\\ultratb.py\", line 1095, in get_records\n    return _fixed_getinnerframes(etb, number_of_lines_of_context, tb_offset)\n  File \"c:\\users\\cuissot\\pycharmprojects\\untitled1\\venv\\lib\\site-packages\\IPython\\core\\ultratb.py\", line 313, in wrapped\n    return f(*args, **kwargs)\n  File \"c:\\users\\cuissot\\pycharmprojects\\untitled1\\venv\\lib\\site-packages\\IPython\\core\\ultratb.py\", line 347, in _fixed_getinnerframes\n    records \u003d fix_frame_records_filenames(inspect.getinnerframes(etb, context))\n  File \"C:\\Users\\Cuissot\\Miniconda3\\lib\\inspect.py\", line 1454, in getinnerframes\n    frameinfo \u003d (tb.tb_frame,) + getframeinfo(tb, context)\n  File \"C:\\Users\\Cuissot\\Miniconda3\\lib\\inspect.py\", line 1411, in getframeinfo\n    filename \u003d getsourcefile(frame) or getfile(frame)\n  File \"C:\\Users\\Cuissot\\Miniconda3\\lib\\inspect.py\", line 666, in getsourcefile\n    if getattr(getmodule(object, filename), \u0027__loader__\u0027, None) is not None:\n  File \"C:\\Users\\Cuissot\\Miniconda3\\lib\\inspect.py\", line 703, in getmodule\n    if ismodule(module) and hasattr(module, \u0027__file__\u0027):\n  File \"c:\\users\\cuissot\\pycharmprojects\\untitled1\\venv\\lib\\site-packages\\tensorflow\\__init__.py\", line 50, in __getattr__\n    from tensorflow._api.v1 import math\n  File \"c:\\users\\cuissot\\pycharmprojects\\untitled1\\venv\\lib\\site-packages\\tensorflow\\__init__.py\", line 44, in _load\n    from tensorflow._api.v1 import layers\n  File \"C:\\Users\\Cuissot\\Miniconda3\\lib\\importlib\\__init__.py\", line 126, in import_module\n    return _bootstrap._gcd_import(name[level:], package, level)\n  File \"\u003cfrozen importlib._bootstrap\u003e\", line 978, in _gcd_import\n  File \"\u003cfrozen importlib._bootstrap\u003e\", line 961, in _find_and_load\n  File \"\u003cfrozen importlib._bootstrap\u003e\", line 936, in _find_and_load_unlocked\n  File \"\u003cfrozen importlib._bootstrap\u003e\", line 205, in _call_with_frames_removed\n  File \"\u003cfrozen importlib._bootstrap\u003e\", line 978, in _gcd_import\n  File \"\u003cfrozen importlib._bootstrap\u003e\", line 961, in _find_and_load\n  File \"\u003cfrozen importlib._bootstrap\u003e\", line 948, in _find_and_load_unlocked\nModuleNotFoundError: No module named \u0027tensorflow_core\u0027\n"
          ],
          "output_type": "stream"
        },
        {
          "traceback": [
            "\u001b[1;31m---------------------------------------------------------------------------\u001b[0m"
          ],
          "ename": "ModuleNotFoundError",
          "evalue": "No module named \u0027tensorflow_core\u0027",
          "output_type": "error"
        }
      ]
    },
    {
      "cell_type": "markdown",
      "metadata": {
        "id": "t9FDsUlxCaWW",
        "colab_type": "text",
        "pycharm": {}
      },
      "source": [
        "Loading the dataset returns four NumPy arrays:\n",
        "\n",
        "* The `train_images` and `train_labels` arrays are the *training set*—the data the model uses to learn.\n",
        "* The model is tested against the *test set*, the `test_images`, and `test_labels` arrays.\n",
        "\n",
        "The images are 28x28 NumPy arrays, with pixel values ranging between 0 and 255. The *labels* are an array of integers, ranging from 0 to 9. These correspond to the *class* of clothing the image represents:\n",
        "\n",
        "\u003ctable\u003e\n",
        "  \u003ctr\u003e\n",
        "    \u003cth\u003eLabel\u003c/th\u003e\n",
        "    \u003cth\u003eClass\u003c/th\u003e\n",
        "  \u003c/tr\u003e\n",
        "  \u003ctr\u003e\n",
        "    \u003ctd\u003e0\u003c/td\u003e\n",
        "    \u003ctd\u003eT-shirt/top\u003c/td\u003e\n",
        "  \u003c/tr\u003e\n",
        "  \u003ctr\u003e\n",
        "    \u003ctd\u003e1\u003c/td\u003e\n",
        "    \u003ctd\u003eTrouser\u003c/td\u003e\n",
        "  \u003c/tr\u003e\n",
        "    \u003ctr\u003e\n",
        "    \u003ctd\u003e2\u003c/td\u003e\n",
        "    \u003ctd\u003ePullover\u003c/td\u003e\n",
        "  \u003c/tr\u003e\n",
        "    \u003ctr\u003e\n",
        "    \u003ctd\u003e3\u003c/td\u003e\n",
        "    \u003ctd\u003eDress\u003c/td\u003e\n",
        "  \u003c/tr\u003e\n",
        "    \u003ctr\u003e\n",
        "    \u003ctd\u003e4\u003c/td\u003e\n",
        "    \u003ctd\u003eCoat\u003c/td\u003e\n",
        "  \u003c/tr\u003e\n",
        "    \u003ctr\u003e\n",
        "    \u003ctd\u003e5\u003c/td\u003e\n",
        "    \u003ctd\u003eSandal\u003c/td\u003e\n",
        "  \u003c/tr\u003e\n",
        "    \u003ctr\u003e\n",
        "    \u003ctd\u003e6\u003c/td\u003e\n",
        "    \u003ctd\u003eShirt\u003c/td\u003e\n",
        "  \u003c/tr\u003e\n",
        "    \u003ctr\u003e\n",
        "    \u003ctd\u003e7\u003c/td\u003e\n",
        "    \u003ctd\u003eSneaker\u003c/td\u003e\n",
        "  \u003c/tr\u003e\n",
        "    \u003ctr\u003e\n",
        "    \u003ctd\u003e8\u003c/td\u003e\n",
        "    \u003ctd\u003eBag\u003c/td\u003e\n",
        "  \u003c/tr\u003e\n",
        "    \u003ctr\u003e\n",
        "    \u003ctd\u003e9\u003c/td\u003e\n",
        "    \u003ctd\u003eAnkle boot\u003c/td\u003e\n",
        "  \u003c/tr\u003e\n",
        "\u003c/table\u003e\n",
        "\n",
        "Each image is mapped to a single label. Since the *class names* are not included with the dataset, store them here to use later when plotting the images:"
      ]
    },
    {
      "cell_type": "code",
      "metadata": {
        "id": "IjnLH5S2CaWx",
        "colab_type": "code",
        "colab": {},
        "pycharm": {}
      },
      "source": [
        "class_names \u003d [\u0027T-shirt/top\u0027, \u0027Trouser\u0027, \u0027Pullover\u0027, \u0027Dress\u0027, \u0027Coat\u0027,\n",
        "               \u0027Sandal\u0027, \u0027Shirt\u0027, \u0027Sneaker\u0027, \u0027Bag\u0027, \u0027Ankle boot\u0027]"
      ],
      "execution_count": 0,
      "outputs": []
    },
    {
      "cell_type": "markdown",
      "metadata": {
        "id": "Brm0b_KACaWX",
        "colab_type": "text",
        "pycharm": {}
      },
      "source": [
        "## Explore the data\n",
        "\n",
        "Let\u0027s explore the format of the dataset before training the model. The following shows there are 60,000 images in the training set, with each image represented as 28 x 28 pixels:"
      ]
    },
    {
      "cell_type": "code",
      "metadata": {
        "id": "zW5k_xz1CaWX",
        "colab_type": "code",
        "colab": {},
        "pycharm": {}
      },
      "source": [
        "train_images.shape"
      ],
      "execution_count": 0,
      "outputs": []
    },
    {
      "cell_type": "markdown",
      "metadata": {
        "id": "cIAcvQqMCaWf",
        "colab_type": "text",
        "pycharm": {}
      },
      "source": [
        "Likewise, there are 60,000 labels in the training set:"
      ]
    },
    {
      "cell_type": "code",
      "metadata": {
        "id": "TRFYHB2mCaWb",
        "colab_type": "code",
        "colab": {},
        "pycharm": {}
      },
      "source": [
        "len(train_labels)"
      ],
      "execution_count": 0,
      "outputs": []
    },
    {
      "cell_type": "markdown",
      "metadata": {
        "id": "YSlYxFuRCaWk",
        "colab_type": "text",
        "pycharm": {}
      },
      "source": [
        "Each label is an integer between 0 and 9:"
      ]
    },
    {
      "cell_type": "code",
      "metadata": {
        "id": "XKnCTHz4CaWg",
        "colab_type": "code",
        "colab": {},
        "pycharm": {}
      },
      "source": [
        "train_labels"
      ],
      "execution_count": 0,
      "outputs": []
    },
    {
      "cell_type": "markdown",
      "metadata": {
        "id": "TMPI88iZpO2T",
        "colab_type": "text",
        "pycharm": {}
      },
      "source": [
        "There are 10,000 images in the test set. Again, each image is represented as 28 x 28 pixels:"
      ]
    },
    {
      "cell_type": "code",
      "metadata": {
        "id": "2KFnYlcwCaWl",
        "colab_type": "code",
        "colab": {},
        "pycharm": {}
      },
      "source": [
        "test_images.shape"
      ],
      "execution_count": 0,
      "outputs": []
    },
    {
      "cell_type": "markdown",
      "metadata": {
        "id": "rd0A0Iu0CaWq",
        "colab_type": "text",
        "pycharm": {}
      },
      "source": [
        "And the test set contains 10,000 images labels:"
      ]
    },
    {
      "cell_type": "code",
      "metadata": {
        "id": "iJmPr5-ACaWn",
        "colab_type": "code",
        "colab": {},
        "pycharm": {}
      },
      "source": [
        "len(test_labels)"
      ],
      "execution_count": 0,
      "outputs": []
    },
    {
      "cell_type": "markdown",
      "metadata": {
        "id": "ES6uQoLKCaWr",
        "colab_type": "text",
        "pycharm": {}
      },
      "source": [
        "## Preprocess the data\n",
        "\n",
        "The data must be preprocessed before training the network. If you inspect the first image in the training set, you will see that the pixel values fall in the range of 0 to 255:"
      ]
    },
    {
      "cell_type": "code",
      "metadata": {
        "id": "m4VEw8Ud9Quh",
        "colab_type": "code",
        "colab": {},
        "pycharm": {}
      },
      "source": [
        "plt.figure()\n",
        "plt.imshow(train_images[0])\n",
        "plt.colorbar()\n",
        "plt.grid(False)\n",
        "plt.show()"
      ],
      "execution_count": 0,
      "outputs": []
    },
    {
      "cell_type": "markdown",
      "metadata": {
        "id": "Wz7l27Lz9S1P",
        "colab_type": "text",
        "pycharm": {}
      },
      "source": [
        "We scale these values to a range of 0 to 1 before feeding to the neural network model. For this, we divide the values by 255. It\u0027s important that the *training set* and the *testing set* are preprocessed in the same way:"
      ]
    },
    {
      "cell_type": "code",
      "metadata": {
        "id": "bW5WzIPlCaWv",
        "colab_type": "code",
        "colab": {},
        "pycharm": {}
      },
      "source": [
        "train_images \u003d train_images / 255.0\n",
        "\n",
        "test_images \u003d test_images / 255.0"
      ],
      "execution_count": 0,
      "outputs": []
    },
    {
      "cell_type": "markdown",
      "metadata": {
        "id": "Ee638AlnCaWz",
        "colab_type": "text",
        "pycharm": {}
      },
      "source": [
        "Display the first 25 images from the *training set* and display the class name below each image. Verify that the data is in the correct format and we\u0027re ready to build and train the network."
      ]
    },
    {
      "cell_type": "code",
      "metadata": {
        "id": "oZTImqg_CaW1",
        "colab_type": "code",
        "colab": {},
        "pycharm": {}
      },
      "source": [
        "plt.figure(figsize\u003d(10,10))\n",
        "for i in range(25):\n",
        "    plt.subplot(5,5,i+1)\n",
        "    plt.xticks([])\n",
        "    plt.yticks([])\n",
        "    plt.grid(False)\n",
        "    plt.imshow(train_images[i], cmap\u003dplt.cm.binary)\n",
        "    plt.xlabel(class_names[train_labels[i]])\n",
        "plt.show()"
      ],
      "execution_count": 0,
      "outputs": []
    },
    {
      "cell_type": "markdown",
      "metadata": {
        "id": "59veuiEZCaW4",
        "colab_type": "text",
        "pycharm": {}
      },
      "source": [
        "## Build the model\n",
        "\n",
        "Building the neural network requires configuring the layers of the model, then compiling the model."
      ]
    },
    {
      "cell_type": "markdown",
      "metadata": {
        "id": "Gxg1XGm0eOBy",
        "colab_type": "text",
        "pycharm": {}
      },
      "source": [
        "### Setup the layers\n",
        "\n",
        "The basic building block of a neural network is the *layer*. Layers extract representations from the data fed into them. And, hopefully, these representations are more meaningful for the problem at hand.\n",
        "\n",
        "Most of deep learning consists of chaining together simple layers. Most layers, like `tf.keras.layers.Dense`, have parameters that are learned during training."
      ]
    },
    {
      "cell_type": "code",
      "metadata": {
        "id": "9ODch-OFCaW4",
        "colab_type": "code",
        "colab": {},
        "pycharm": {}
      },
      "source": [
        "model \u003d keras.Sequential([\n",
        "    keras.layers.Flatten(input_shape\u003d(28, 28)),\n",
        "    keras.layers.Dense(128, activation\u003dtf.nn.relu),\n",
        "    keras.layers.Dense(10, activation\u003dtf.nn.softmax)\n",
        "])"
      ],
      "execution_count": 0,
      "outputs": []
    },
    {
      "cell_type": "markdown",
      "metadata": {
        "id": "gut8A_7rCaW6",
        "colab_type": "text",
        "pycharm": {}
      },
      "source": [
        "The first layer in this network, `tf.keras.layers.Flatten`, transforms the format of the images from a 2d-array (of 28 by 28 pixels), to a 1d-array of 28 * 28 \u003d 784 pixels. Think of this layer as unstacking rows of pixels in the image and lining them up. This layer has no parameters to learn; it only reformats the data.\n",
        "\n",
        "After the pixels are flattened, the network consists of a sequence of two `tf.keras.layers.Dense` layers. These are densely-connected, or fully-connected, neural layers. The first `Dense` layer has 128 nodes (or neurons). The second (and last) layer is a 10-node *softmax* layer—this returns an array of 10 probability scores that sum to 1. Each node contains a score that indicates the probability that the current image belongs to one of the 10 classes.\n",
        "\n",
        "### Compile the model\n",
        "\n",
        "Before the model is ready for training, it needs a few more settings. These are added during the model\u0027s *compile* step:\n",
        "\n",
        "* *Loss function* —This measures how accurate the model is during training. We want to minimize this function to \"steer\" the model in the right direction.\n",
        "* *Optimizer* —This is how the model is updated based on the data it sees and its loss function.\n",
        "* *Metrics* —Used to monitor the training and testing steps. The following example uses *accuracy*, the fraction of the images that are correctly classified."
      ]
    },
    {
      "cell_type": "code",
      "metadata": {
        "id": "Lhan11blCaW7",
        "colab_type": "code",
        "colab": {},
        "pycharm": {}
      },
      "source": [
        "model.compile(optimizer\u003d\u0027adam\u0027,\n",
        "              loss\u003d\u0027sparse_categorical_crossentropy\u0027,\n",
        "              metrics\u003d[\u0027accuracy\u0027])"
      ],
      "execution_count": 0,
      "outputs": []
    },
    {
      "cell_type": "markdown",
      "metadata": {
        "id": "qKF6uW-BCaW-",
        "colab_type": "text",
        "pycharm": {}
      },
      "source": [
        "## Train the model\n",
        "\n",
        "Training the neural network model requires the following steps:\n",
        "\n",
        "1. Feed the training data to the model—in this example, the `train_images` and `train_labels` arrays.\n",
        "2. The model learns to associate images and labels.\n",
        "3. We ask the model to make predictions about a test set—in this example, the `test_images` array. We verify that the predictions match the labels from the `test_labels` array.\n",
        "\n",
        "To start training,  call the `model.fit` method—the model is \"fit\" to the training data:"
      ]
    },
    {
      "cell_type": "code",
      "metadata": {
        "id": "xvwvpA64CaW_",
        "colab_type": "code",
        "colab": {},
        "pycharm": {}
      },
      "source": [
        "model.fit(train_images, train_labels, epochs\u003d5)"
      ],
      "execution_count": 0,
      "outputs": []
    },
    {
      "cell_type": "markdown",
      "metadata": {
        "id": "W3ZVOhugCaXA",
        "colab_type": "text",
        "pycharm": {}
      },
      "source": [
        "As the model trains, the loss and accuracy metrics are displayed. This model reaches an accuracy of about 0.88 (or 88%) on the training data."
      ]
    },
    {
      "cell_type": "markdown",
      "metadata": {
        "id": "oEw4bZgGCaXB",
        "colab_type": "text",
        "pycharm": {}
      },
      "source": [
        "## Evaluate accuracy\n",
        "\n",
        "Next, compare how the model performs on the test dataset:"
      ]
    },
    {
      "cell_type": "code",
      "metadata": {
        "id": "VflXLEeECaXC",
        "colab_type": "code",
        "colab": {},
        "pycharm": {}
      },
      "source": [
        "test_loss, test_acc \u003d model.evaluate(test_images, test_labels)\n",
        "\n",
        "print(\u0027Test accuracy:\u0027, test_acc)"
      ],
      "execution_count": 0,
      "outputs": []
    },
    {
      "cell_type": "markdown",
      "metadata": {
        "id": "yWfgsmVXCaXG",
        "colab_type": "text",
        "pycharm": {}
      },
      "source": [
        "It turns out, the accuracy on the test dataset is a little less than the accuracy on the training dataset. This gap between training accuracy and test accuracy is an example of *overfitting*. Overfitting is when a machine learning model performs worse on new data than on their training data."
      ]
    },
    {
      "cell_type": "markdown",
      "metadata": {
        "id": "xsoS7CPDCaXH",
        "colab_type": "text",
        "pycharm": {}
      },
      "source": [
        "## Make predictions\n",
        "\n",
        "With the model trained, we can use it to make predictions about some images."
      ]
    },
    {
      "cell_type": "code",
      "metadata": {
        "id": "Gl91RPhdCaXI",
        "colab_type": "code",
        "colab": {},
        "pycharm": {}
      },
      "source": [
        "predictions \u003d model.predict(test_images)"
      ],
      "execution_count": 0,
      "outputs": []
    },
    {
      "cell_type": "markdown",
      "metadata": {
        "id": "x9Kk1voUCaXJ",
        "colab_type": "text",
        "pycharm": {}
      },
      "source": [
        "Here, the model has predicted the label for each image in the testing set. Let\u0027s take a look at the first prediction:"
      ]
    },
    {
      "cell_type": "code",
      "metadata": {
        "id": "3DmJEUinCaXK",
        "colab_type": "code",
        "colab": {},
        "pycharm": {}
      },
      "source": [
        "predictions[0]"
      ],
      "execution_count": 0,
      "outputs": []
    },
    {
      "cell_type": "markdown",
      "metadata": {
        "id": "-hw1hgeSCaXN",
        "colab_type": "text",
        "pycharm": {}
      },
      "source": [
        "A prediction is an array of 10 numbers. These describe the \"confidence\" of the model that the image corresponds to each of the 10 different articles of clothing. We can see which label has the highest confidence value:"
      ]
    },
    {
      "cell_type": "code",
      "metadata": {
        "id": "qsqenuPnCaXO",
        "colab_type": "code",
        "colab": {},
        "pycharm": {}
      },
      "source": [
        "np.argmax(predictions[0])"
      ],
      "execution_count": 0,
      "outputs": []
    },
    {
      "cell_type": "markdown",
      "metadata": {
        "id": "E51yS7iCCaXO",
        "colab_type": "text",
        "pycharm": {}
      },
      "source": [
        "So the model is most confident that this image is an ankle boot, or `class_names[9]`. And we can check the test label to see this is correct:"
      ]
    },
    {
      "cell_type": "code",
      "metadata": {
        "id": "Sd7Pgsu6CaXP",
        "colab_type": "code",
        "colab": {},
        "pycharm": {}
      },
      "source": [
        "test_labels[0]"
      ],
      "execution_count": 0,
      "outputs": []
    },
    {
      "cell_type": "markdown",
      "metadata": {
        "id": "ygh2yYC972ne",
        "colab_type": "text",
        "pycharm": {}
      },
      "source": [
        "We can graph this to look at the full set of 10 class predictions"
      ]
    },
    {
      "cell_type": "code",
      "metadata": {
        "id": "DvYmmrpIy6Y1",
        "colab_type": "code",
        "colab": {},
        "pycharm": {}
      },
      "source": [
        "def plot_image(i, predictions_array, true_label, img):\n",
        "  predictions_array, true_label, img \u003d predictions_array[i], true_label[i], img[i]\n",
        "  plt.grid(False)\n",
        "  plt.xticks([])\n",
        "  plt.yticks([])\n",
        "  \n",
        "  plt.imshow(img, cmap\u003dplt.cm.binary)\n",
        "  \n",
        "  predicted_label \u003d np.argmax(predictions_array)\n",
        "  if predicted_label \u003d\u003d true_label:\n",
        "    color \u003d \u0027blue\u0027\n",
        "  else:\n",
        "    color \u003d \u0027red\u0027\n",
        "  \n",
        "  plt.xlabel(\"{} {:2.0f}% ({})\".format(class_names[predicted_label],\n",
        "                                100*np.max(predictions_array),\n",
        "                                class_names[true_label]),\n",
        "                                color\u003dcolor)\n",
        "\n",
        "def plot_value_array(i, predictions_array, true_label):\n",
        "  predictions_array, true_label \u003d predictions_array[i], true_label[i]\n",
        "  plt.grid(False)\n",
        "  plt.xticks([])\n",
        "  plt.yticks([])\n",
        "  thisplot \u003d plt.bar(range(10), predictions_array, color\u003d\"#777777\")\n",
        "  plt.ylim([0, 1])\n",
        "  predicted_label \u003d np.argmax(predictions_array)\n",
        "  \n",
        "  thisplot[predicted_label].set_color(\u0027red\u0027)\n",
        "  thisplot[true_label].set_color(\u0027blue\u0027)"
      ],
      "execution_count": 0,
      "outputs": []
    },
    {
      "cell_type": "markdown",
      "metadata": {
        "id": "d4Ov9OFDMmOD",
        "colab_type": "text",
        "pycharm": {}
      },
      "source": [
        "Let\u0027s look at the 0th image, predictions, and prediction array."
      ]
    },
    {
      "cell_type": "code",
      "metadata": {
        "id": "HV5jw-5HwSmO",
        "colab_type": "code",
        "colab": {},
        "pycharm": {}
      },
      "source": [
        "i \u003d 0\n",
        "plt.figure(figsize\u003d(6,3))\n",
        "plt.subplot(1,2,1)\n",
        "plot_image(i, predictions, test_labels, test_images)\n",
        "plt.subplot(1,2,2)\n",
        "plot_value_array(i, predictions,  test_labels)\n",
        "plt.show()"
      ],
      "execution_count": 0,
      "outputs": []
    },
    {
      "cell_type": "code",
      "metadata": {
        "id": "Ko-uzOufSCSe",
        "colab_type": "code",
        "colab": {},
        "pycharm": {}
      },
      "source": [
        "i \u003d 12\n",
        "plt.figure(figsize\u003d(6,3))\n",
        "plt.subplot(1,2,1)\n",
        "plot_image(i, predictions, test_labels, test_images)\n",
        "plt.subplot(1,2,2)\n",
        "plot_value_array(i, predictions,  test_labels)\n",
        "plt.show()"
      ],
      "execution_count": 0,
      "outputs": []
    },
    {
      "cell_type": "markdown",
      "metadata": {
        "id": "kgdvGD52CaXR",
        "colab_type": "text",
        "pycharm": {}
      },
      "source": [
        "Let\u0027s plot several images with their predictions. Correct prediction labels are blue and incorrect prediction labels are red. The number gives the percent (out of 100) for the predicted label. Note that it can be wrong even when very confident."
      ]
    },
    {
      "cell_type": "code",
      "metadata": {
        "id": "hQlnbqaw2Qu_",
        "colab_type": "code",
        "colab": {},
        "pycharm": {}
      },
      "source": [
        "# Plot the first X test images, their predicted label, and the true label\n",
        "# Color correct predictions in blue, incorrect predictions in red\n",
        "num_rows \u003d 5\n",
        "num_cols \u003d 3\n",
        "num_images \u003d num_rows*num_cols\n",
        "plt.figure(figsize\u003d(2*2*num_cols, 2*num_rows))\n",
        "for i in range(num_images):\n",
        "  plt.subplot(num_rows, 2*num_cols, 2*i+1)\n",
        "  plot_image(i, predictions, test_labels, test_images)\n",
        "  plt.subplot(num_rows, 2*num_cols, 2*i+2)\n",
        "  plot_value_array(i, predictions, test_labels)\n",
        "plt.show()"
      ],
      "execution_count": 0,
      "outputs": []
    },
    {
      "cell_type": "markdown",
      "metadata": {
        "id": "R32zteKHCaXT",
        "colab_type": "text",
        "pycharm": {}
      },
      "source": [
        "Finally, use the trained model to make a prediction about a single image."
      ]
    },
    {
      "cell_type": "code",
      "metadata": {
        "id": "yRJ7JU7JCaXT",
        "colab_type": "code",
        "colab": {},
        "pycharm": {}
      },
      "source": [
        "# Grab an image from the test dataset\n",
        "img \u003d test_images[0]\n",
        "\n",
        "print(img.shape)"
      ],
      "execution_count": 0,
      "outputs": []
    },
    {
      "cell_type": "markdown",
      "metadata": {
        "id": "vz3bVp21CaXV",
        "colab_type": "text",
        "pycharm": {}
      },
      "source": [
        "`tf.keras` models are optimized to make predictions on a *batch*, or collection, of examples at once. So even though we\u0027re using a single image, we need to add it to a list:"
      ]
    },
    {
      "cell_type": "code",
      "metadata": {
        "id": "lDFh5yF_CaXW",
        "colab_type": "code",
        "colab": {},
        "pycharm": {}
      },
      "source": [
        "# Add the image to a batch where it\u0027s the only member.\n",
        "img \u003d (np.expand_dims(img,0))\n",
        "\n",
        "print(img.shape)"
      ],
      "execution_count": 0,
      "outputs": []
    },
    {
      "cell_type": "markdown",
      "metadata": {
        "id": "EQ5wLTkcCaXY",
        "colab_type": "text",
        "pycharm": {}
      },
      "source": [
        "Now predict the image:"
      ]
    },
    {
      "cell_type": "code",
      "metadata": {
        "id": "o_rzNSdrCaXY",
        "colab_type": "code",
        "colab": {},
        "pycharm": {}
      },
      "source": [
        "predictions_single \u003d model.predict(img)\n",
        "\n",
        "print(predictions_single)"
      ],
      "execution_count": 0,
      "outputs": []
    },
    {
      "cell_type": "code",
      "metadata": {
        "id": "6Ai-cpLjO-3A",
        "colab_type": "code",
        "colab": {},
        "pycharm": {}
      },
      "source": [
        "plot_value_array(0, predictions_single, test_labels)\n",
        "plt.xticks(range(10), class_names, rotation\u003d45)\n",
        "plt.show()"
      ],
      "execution_count": 0,
      "outputs": []
    },
    {
      "cell_type": "markdown",
      "metadata": {
        "id": "cU1Y2OAMCaXb",
        "colab_type": "text",
        "pycharm": {}
      },
      "source": [
        "`model.predict` returns a list of lists, one for each image in the batch of data. Grab the predictions for our (only) image in the batch:"
      ]
    },
    {
      "cell_type": "code",
      "metadata": {
        "id": "2tRmdq_8CaXb",
        "colab_type": "code",
        "colab": {},
        "pycharm": {}
      },
      "source": [
        "prediction_result \u003d np.argmax(predictions_single[0])\n",
        "print(prediction_result)"
      ],
      "execution_count": 0,
      "outputs": []
    },
    {
      "cell_type": "markdown",
      "metadata": {
        "id": "YFc2HbEVCaXd",
        "colab_type": "text",
        "pycharm": {}
      },
      "source": [
        "And, as before, the model predicts a label of 9."
      ]
    }
  ]
}